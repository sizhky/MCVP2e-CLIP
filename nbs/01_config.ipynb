{
 "cells": [
  {
   "cell_type": "markdown",
   "metadata": {},
   "source": [
    "# Config\n",
    "\n",
    "> Dev notebook"
   ]
  },
  {
   "cell_type": "code",
   "execution_count": 1,
   "metadata": {},
   "outputs": [],
   "source": [
    "#| default_exp config"
   ]
  },
  {
   "cell_type": "code",
   "execution_count": 2,
   "metadata": {},
   "outputs": [
    {
     "data": {
      "application/javascript": [
       "\n",
       "            setTimeout(function() {\n",
       "                var nbb_cell_id = 2;\n",
       "                var nbb_unformatted_code = \"# | hide\\n%reload_ext autoreload\\n%reload_ext nb_black\\n%autoreload 2\\nfrom nbdev.showdoc import *\\nimport sys\\n\\n__root = \\\"../\\\"\\nsys.path.append(__root)\";\n",
       "                var nbb_formatted_code = \"# | hide\\n%reload_ext autoreload\\n%reload_ext nb_black\\n%autoreload 2\\nfrom nbdev.showdoc import *\\nimport sys\\n\\n__root = \\\"../\\\"\\nsys.path.append(__root)\";\n",
       "                var nbb_cells = Jupyter.notebook.get_cells();\n",
       "                for (var i = 0; i < nbb_cells.length; ++i) {\n",
       "                    if (nbb_cells[i].input_prompt_number == nbb_cell_id) {\n",
       "                        if (nbb_cells[i].get_text() == nbb_unformatted_code) {\n",
       "                             nbb_cells[i].set_text(nbb_formatted_code);\n",
       "                        }\n",
       "                        break;\n",
       "                    }\n",
       "                }\n",
       "            }, 500);\n",
       "            "
      ],
      "text/plain": [
       "<IPython.core.display.Javascript object>"
      ]
     },
     "metadata": {},
     "output_type": "display_data"
    }
   ],
   "source": [
    "# | hide\n",
    "%reload_ext autoreload\n",
    "%reload_ext nb_black\n",
    "%autoreload 2\n",
    "from nbdev.showdoc import *\n",
    "import sys\n",
    "\n",
    "__root = \"../\"\n",
    "sys.path.append(__root)\n"
   ]
  },
  {
   "cell_type": "code",
   "execution_count": 3,
   "metadata": {},
   "outputs": [
    {
     "data": {
      "application/javascript": [
       "\n",
       "            setTimeout(function() {\n",
       "                var nbb_cell_id = 3;\n",
       "                var nbb_unformatted_code = \"# | export\\nimport json\\nimport dataclasses\\nfrom clip.core import *\\nfrom torch_snippets import *\";\n",
       "                var nbb_formatted_code = \"# | export\\nimport json\\nimport dataclasses\\nfrom clip.core import *\\nfrom torch_snippets import *\";\n",
       "                var nbb_cells = Jupyter.notebook.get_cells();\n",
       "                for (var i = 0; i < nbb_cells.length; ++i) {\n",
       "                    if (nbb_cells[i].input_prompt_number == nbb_cell_id) {\n",
       "                        if (nbb_cells[i].get_text() == nbb_unformatted_code) {\n",
       "                             nbb_cells[i].set_text(nbb_formatted_code);\n",
       "                        }\n",
       "                        break;\n",
       "                    }\n",
       "                }\n",
       "            }, 500);\n",
       "            "
      ],
      "text/plain": [
       "<IPython.core.display.Javascript object>"
      ]
     },
     "metadata": {},
     "output_type": "display_data"
    }
   ],
   "source": [
    "# | export\n",
    "import json\n",
    "import dataclasses\n",
    "from clip.core import *\n",
    "from torch_snippets import *"
   ]
  },
  {
   "cell_type": "code",
   "execution_count": 4,
   "metadata": {},
   "outputs": [
    {
     "data": {
      "application/javascript": [
       "\n",
       "            setTimeout(function() {\n",
       "                var nbb_cell_id = 4;\n",
       "                var nbb_unformatted_code = \"# | export\\n\\n\\n@dataclasses.dataclass\\nclass ClipConfig:\\n    debug: int = False\\n    batch_size: int = 32\\n    num_workers: int = 2\\n    head_lr: float = 1e-3\\n    image_encoder_lr: float = 1e-4\\n    text_encoder_lr: float = 1e-5\\n    weight_decay = 1e-3\\n    patience: int = 1\\n    factor: float = 0.8\\n    epochs: int = 4\\n    device: str = \\\"cuda\\\" if torch.cuda.is_available() else \\\"cpu\\\"\\n    model_name: str = \\\"resnet50\\\"\\n    image_embedding: int = 2048\\n    distilbert_text_encoder_model = \\\"distilbert-base-uncased\\\"\\n    text_embedding: int = 768\\n    distilbert_text_tokenizer = \\\"distilbert-base-uncased\\\"\\n    max_length: int = 200\\n    pretrained: bool = True\\n    trainable: bool = True  # for both image encoder and text encoder\\n    temperature: float = 1.0\\n    # image size\\n    size: int = 224\\n    # for projection head; used for both image and text encoders\\n    num_projection_layers: int = 1\\n    projection_dim: int = 256\\n    dropout: float = 0.1\\n    target_token_idx: int = 0\\n    save_eval_and_logging_steps: int = 500\\n        \\n    def to_json_string(self):\\n        return json.dumps(dataclasses.asdict(self)) + \\\"\\\\n\\\"\";\n",
       "                var nbb_formatted_code = \"# | export\\n\\n\\n@dataclasses.dataclass\\nclass ClipConfig:\\n    debug: int = False\\n    batch_size: int = 32\\n    num_workers: int = 2\\n    head_lr: float = 1e-3\\n    image_encoder_lr: float = 1e-4\\n    text_encoder_lr: float = 1e-5\\n    weight_decay = 1e-3\\n    patience: int = 1\\n    factor: float = 0.8\\n    epochs: int = 4\\n    device: str = \\\"cuda\\\" if torch.cuda.is_available() else \\\"cpu\\\"\\n    model_name: str = \\\"resnet50\\\"\\n    image_embedding: int = 2048\\n    distilbert_text_encoder_model = \\\"distilbert-base-uncased\\\"\\n    text_embedding: int = 768\\n    distilbert_text_tokenizer = \\\"distilbert-base-uncased\\\"\\n    max_length: int = 200\\n    pretrained: bool = True\\n    trainable: bool = True  # for both image encoder and text encoder\\n    temperature: float = 1.0\\n    # image size\\n    size: int = 224\\n    # for projection head; used for both image and text encoders\\n    num_projection_layers: int = 1\\n    projection_dim: int = 256\\n    dropout: float = 0.1\\n    target_token_idx: int = 0\\n    save_eval_and_logging_steps: int = 500\\n\\n    def to_json_string(self):\\n        return json.dumps(dataclasses.asdict(self)) + \\\"\\\\n\\\"\";\n",
       "                var nbb_cells = Jupyter.notebook.get_cells();\n",
       "                for (var i = 0; i < nbb_cells.length; ++i) {\n",
       "                    if (nbb_cells[i].input_prompt_number == nbb_cell_id) {\n",
       "                        if (nbb_cells[i].get_text() == nbb_unformatted_code) {\n",
       "                             nbb_cells[i].set_text(nbb_formatted_code);\n",
       "                        }\n",
       "                        break;\n",
       "                    }\n",
       "                }\n",
       "            }, 500);\n",
       "            "
      ],
      "text/plain": [
       "<IPython.core.display.Javascript object>"
      ]
     },
     "metadata": {},
     "output_type": "display_data"
    }
   ],
   "source": [
    "# | export\n",
    "\n",
    "\n",
    "@dataclasses.dataclass\n",
    "class ClipConfig:\n",
    "    debug: int = False\n",
    "    batch_size: int = 32\n",
    "    num_workers: int = 2\n",
    "    head_lr: float = 1e-3\n",
    "    image_encoder_lr: float = 1e-4\n",
    "    text_encoder_lr: float = 1e-5\n",
    "    weight_decay = 1e-3\n",
    "    patience: int = 1\n",
    "    factor: float = 0.8\n",
    "    epochs: int = 4\n",
    "    device: str = \"cuda\" if torch.cuda.is_available() else \"cpu\"\n",
    "    model_name: str = \"resnet50\"\n",
    "    image_embedding: int = 2048\n",
    "    distilbert_text_encoder_model = \"distilbert-base-uncased\"\n",
    "    text_embedding: int = 768\n",
    "    distilbert_text_tokenizer = \"distilbert-base-uncased\"\n",
    "    max_length: int = 200\n",
    "    pretrained: bool = True\n",
    "    trainable: bool = True  # for both image encoder and text encoder\n",
    "    temperature: float = 1.0\n",
    "    # image size\n",
    "    size: int = 224\n",
    "    # for projection head; used for both image and text encoders\n",
    "    num_projection_layers: int = 1\n",
    "    projection_dim: int = 256\n",
    "    dropout: float = 0.1\n",
    "    target_token_idx: int = 0\n",
    "    save_eval_and_logging_steps: int = 500\n",
    "        \n",
    "    def to_json_string(self):\n",
    "        return json.dumps(dataclasses.asdict(self)) + \"\\n\"\n"
   ]
  },
  {
   "cell_type": "code",
   "execution_count": 5,
   "metadata": {},
   "outputs": [
    {
     "name": "stderr",
     "output_type": "stream",
     "text": [
      "Skipping .ipynb files as Jupyter dependencies are not installed.\n",
      "You can fix this by running ``pip install \"black[jupyter]\"``\n",
      "reformatted /mnt/347832F37832B388/projects/MCVP2e/Chapter-15b/CLIP/clip/core.py\n",
      "reformatted /mnt/347832F37832B388/projects/MCVP2e/Chapter-15b/CLIP/clip/config.py\n",
      "reformatted /mnt/347832F37832B388/projects/MCVP2e/Chapter-15b/CLIP/clip/infer.py\n",
      "reformatted /mnt/347832F37832B388/projects/MCVP2e/Chapter-15b/CLIP/clip/_modidx.py\n",
      "reformatted /mnt/347832F37832B388/projects/MCVP2e/Chapter-15b/CLIP/clip/dataset.py\n",
      "reformatted /mnt/347832F37832B388/projects/MCVP2e/Chapter-15b/CLIP/clip/models.py\n",
      "\n",
      "All done! ✨ 🍰 ✨\n",
      "6 files reformatted, 3 files left unchanged.\n"
     ]
    },
    {
     "data": {
      "text/plain": [
       "CompletedProcess(args=['/home/yyr/anaconda3/envs/mcvp-book/bin/black', '../'], returncode=0)"
      ]
     },
     "execution_count": 5,
     "metadata": {},
     "output_type": "execute_result"
    },
    {
     "data": {
      "application/javascript": [
       "\n",
       "            setTimeout(function() {\n",
       "                var nbb_cell_id = 5;\n",
       "                var nbb_unformatted_code = \"# | hide\\nimport nbdev\\nnbdev.nbdev_export()\\nimport subprocess\\n\\nsubprocess.run([\\\"/home/yyr/anaconda3/envs/mcvp-book/bin/black\\\", __root])\";\n",
       "                var nbb_formatted_code = \"# | hide\\nimport nbdev\\n\\nnbdev.nbdev_export()\\nimport subprocess\\n\\nsubprocess.run([\\\"/home/yyr/anaconda3/envs/mcvp-book/bin/black\\\", __root])\";\n",
       "                var nbb_cells = Jupyter.notebook.get_cells();\n",
       "                for (var i = 0; i < nbb_cells.length; ++i) {\n",
       "                    if (nbb_cells[i].input_prompt_number == nbb_cell_id) {\n",
       "                        if (nbb_cells[i].get_text() == nbb_unformatted_code) {\n",
       "                             nbb_cells[i].set_text(nbb_formatted_code);\n",
       "                        }\n",
       "                        break;\n",
       "                    }\n",
       "                }\n",
       "            }, 500);\n",
       "            "
      ],
      "text/plain": [
       "<IPython.core.display.Javascript object>"
      ]
     },
     "metadata": {},
     "output_type": "display_data"
    }
   ],
   "source": [
    "# | hide\n",
    "import nbdev\n",
    "nbdev.nbdev_export()\n",
    "import subprocess\n",
    "\n",
    "subprocess.run([\"/home/yyr/anaconda3/envs/mcvp-book/bin/black\", __root])\n"
   ]
  },
  {
   "cell_type": "code",
   "execution_count": null,
   "metadata": {},
   "outputs": [],
   "source": []
  }
 ],
 "metadata": {
  "kernelspec": {
   "display_name": "mcvp-book",
   "language": "python",
   "name": "mcvp-book"
  },
  "language_info": {
   "codemirror_mode": {
    "name": "ipython",
    "version": 3
   },
   "file_extension": ".py",
   "mimetype": "text/x-python",
   "name": "python",
   "nbconvert_exporter": "python",
   "pygments_lexer": "ipython3",
   "version": "3.8.18"
  }
 },
 "nbformat": 4,
 "nbformat_minor": 4
}
