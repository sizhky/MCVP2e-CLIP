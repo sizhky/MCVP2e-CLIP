{
 "cells": [
  {
   "cell_type": "markdown",
   "metadata": {},
   "source": [
    "# Core\n",
    "\n",
    "> Core Components"
   ]
  },
  {
   "cell_type": "code",
   "execution_count": 1,
   "metadata": {},
   "outputs": [],
   "source": [
    "#| default_exp core"
   ]
  },
  {
   "cell_type": "code",
   "execution_count": 2,
   "metadata": {},
   "outputs": [
    {
     "data": {
      "application/javascript": [
       "\n",
       "            setTimeout(function() {\n",
       "                var nbb_cell_id = 2;\n",
       "                var nbb_unformatted_code = \"# | hide\\n%reload_ext autoreload\\n%reload_ext nb_black\\n%autoreload 2\\nfrom nbdev.showdoc import *\\nimport sys\\n\\n__root = \\\"../\\\"\\nsys.path.append(__root)\";\n",
       "                var nbb_formatted_code = \"# | hide\\n%reload_ext autoreload\\n%reload_ext nb_black\\n%autoreload 2\\nfrom nbdev.showdoc import *\\nimport sys\\n\\n__root = \\\"../\\\"\\nsys.path.append(__root)\";\n",
       "                var nbb_cells = Jupyter.notebook.get_cells();\n",
       "                for (var i = 0; i < nbb_cells.length; ++i) {\n",
       "                    if (nbb_cells[i].input_prompt_number == nbb_cell_id) {\n",
       "                        if (nbb_cells[i].get_text() == nbb_unformatted_code) {\n",
       "                             nbb_cells[i].set_text(nbb_formatted_code);\n",
       "                        }\n",
       "                        break;\n",
       "                    }\n",
       "                }\n",
       "            }, 500);\n",
       "            "
      ],
      "text/plain": [
       "<IPython.core.display.Javascript object>"
      ]
     },
     "metadata": {},
     "output_type": "display_data"
    }
   ],
   "source": [
    "# | hide\n",
    "%reload_ext autoreload\n",
    "%reload_ext nb_black\n",
    "%autoreload 2\n",
    "from nbdev.showdoc import *\n",
    "import sys\n",
    "\n",
    "__root = \"../\"\n",
    "sys.path.append(__root)"
   ]
  },
  {
   "cell_type": "code",
   "execution_count": 3,
   "metadata": {},
   "outputs": [
    {
     "data": {
      "application/javascript": [
       "\n",
       "            setTimeout(function() {\n",
       "                var nbb_cell_id = 3;\n",
       "                var nbb_unformatted_code = \"%%capture\\n#| master\\n%pip install transformers timm \\\"torch-snippets>=0.506\\\" kaggle\";\n",
       "                var nbb_formatted_code = \"%%capture\\n#| master\\n%pip install transformers timm \\\"torch-snippets>=0.506\\\" kaggle\";\n",
       "                var nbb_cells = Jupyter.notebook.get_cells();\n",
       "                for (var i = 0; i < nbb_cells.length; ++i) {\n",
       "                    if (nbb_cells[i].input_prompt_number == nbb_cell_id) {\n",
       "                        if (nbb_cells[i].get_text() == nbb_unformatted_code) {\n",
       "                             nbb_cells[i].set_text(nbb_formatted_code);\n",
       "                        }\n",
       "                        break;\n",
       "                    }\n",
       "                }\n",
       "            }, 500);\n",
       "            "
      ],
      "text/plain": [
       "<IPython.core.display.Javascript object>"
      ]
     },
     "metadata": {},
     "output_type": "display_data"
    }
   ],
   "source": [
    "%%capture\n",
    "#| master\n",
    "%pip install \"transformers[torch]\" timm \"torch-snippets>=0.506\" kaggle"
   ]
  },
  {
   "cell_type": "code",
   "execution_count": 4,
   "metadata": {},
   "outputs": [
    {
     "data": {
      "application/javascript": [
       "\n",
       "            setTimeout(function() {\n",
       "                var nbb_cell_id = 4;\n",
       "                var nbb_unformatted_code = \"# | export\\n# | master\\nfrom torch_snippets import *\";\n",
       "                var nbb_formatted_code = \"# | export\\n# | master\\nfrom torch_snippets import *\";\n",
       "                var nbb_cells = Jupyter.notebook.get_cells();\n",
       "                for (var i = 0; i < nbb_cells.length; ++i) {\n",
       "                    if (nbb_cells[i].input_prompt_number == nbb_cell_id) {\n",
       "                        if (nbb_cells[i].get_text() == nbb_unformatted_code) {\n",
       "                             nbb_cells[i].set_text(nbb_formatted_code);\n",
       "                        }\n",
       "                        break;\n",
       "                    }\n",
       "                }\n",
       "            }, 500);\n",
       "            "
      ],
      "text/plain": [
       "<IPython.core.display.Javascript object>"
      ]
     },
     "metadata": {},
     "output_type": "display_data"
    }
   ],
   "source": [
    "# | export\n",
    "# | master\n",
    "from torch_snippets import *"
   ]
  },
  {
   "cell_type": "code",
   "execution_count": 5,
   "metadata": {},
   "outputs": [
    {
     "data": {
      "application/javascript": [
       "\n",
       "            setTimeout(function() {\n",
       "                var nbb_cell_id = 5;\n",
       "                var nbb_unformatted_code = \"# | export\\ndef load_kaggle_key(kaggle_json_path):\\n    kaggle_json = read_json(kaggle_json_path)\\n    os.environ[\\\"KAGGLE_USERNAME\\\"] = kaggle_json[\\\"username\\\"]\\n    os.environ[\\\"KAGGLE_KEY\\\"] = kaggle_json[\\\"key\\\"]\\n    Info(f\\\"Loaded key from {kaggle_json_path}\\\")\\n\\n\\ndef download_flickr8k_from_kaggle(kaggle_json_path, download_folder_location):\\n    load_kaggle_key(kaggle_json_path)\\n    import kaggle\\n\\n    kaggle.api.authenticate()\\n    if exists(f\\\"{download_folder_location}/captions.txt\\\"):\\n        Info(f\\\"Data is already downloaded at {download_folder_location}\\\")\\n        return\\n    with notify_waiting(\\\"Downloading flickr8k data...\\\"):\\n        kaggle.api.dataset_download_files(\\n            \\\"adityajn105/flickr8k\\\", path=download_folder_location, unzip=True\\n        )\";\n",
       "                var nbb_formatted_code = \"# | export\\ndef load_kaggle_key(kaggle_json_path):\\n    kaggle_json = read_json(kaggle_json_path)\\n    os.environ[\\\"KAGGLE_USERNAME\\\"] = kaggle_json[\\\"username\\\"]\\n    os.environ[\\\"KAGGLE_KEY\\\"] = kaggle_json[\\\"key\\\"]\\n    Info(f\\\"Loaded key from {kaggle_json_path}\\\")\\n\\n\\ndef download_flickr8k_from_kaggle(kaggle_json_path, download_folder_location):\\n    load_kaggle_key(kaggle_json_path)\\n    import kaggle\\n\\n    kaggle.api.authenticate()\\n    if exists(f\\\"{download_folder_location}/captions.txt\\\"):\\n        Info(f\\\"Data is already downloaded at {download_folder_location}\\\")\\n        return\\n    with notify_waiting(\\\"Downloading flickr8k data...\\\"):\\n        kaggle.api.dataset_download_files(\\n            \\\"adityajn105/flickr8k\\\", path=download_folder_location, unzip=True\\n        )\";\n",
       "                var nbb_cells = Jupyter.notebook.get_cells();\n",
       "                for (var i = 0; i < nbb_cells.length; ++i) {\n",
       "                    if (nbb_cells[i].input_prompt_number == nbb_cell_id) {\n",
       "                        if (nbb_cells[i].get_text() == nbb_unformatted_code) {\n",
       "                             nbb_cells[i].set_text(nbb_formatted_code);\n",
       "                        }\n",
       "                        break;\n",
       "                    }\n",
       "                }\n",
       "            }, 500);\n",
       "            "
      ],
      "text/plain": [
       "<IPython.core.display.Javascript object>"
      ]
     },
     "metadata": {},
     "output_type": "display_data"
    }
   ],
   "source": [
    "# | export\n",
    "def load_kaggle_key(kaggle_json_path):\n",
    "    kaggle_json = read_json(kaggle_json_path)\n",
    "    os.environ[\"KAGGLE_USERNAME\"] = kaggle_json[\"username\"]\n",
    "    os.environ[\"KAGGLE_KEY\"] = kaggle_json[\"key\"]\n",
    "    Info(f\"Loaded key from {kaggle_json_path}\")\n",
    "\n",
    "\n",
    "def download_flickr8k_from_kaggle(kaggle_json_path, download_folder_location):\n",
    "    load_kaggle_key(kaggle_json_path)\n",
    "    import kaggle\n",
    "\n",
    "    kaggle.api.authenticate()\n",
    "    if exists(f\"{download_folder_location}/captions.txt\"):\n",
    "        Info(f\"Data is already downloaded at {download_folder_location}\")\n",
    "        return\n",
    "    with notify_waiting(\"Downloading flickr8k data...\"):\n",
    "        kaggle.api.dataset_download_files(\n",
    "            \"adityajn105/flickr8k\", path=download_folder_location, unzip=True\n",
    "        )"
   ]
  },
  {
   "cell_type": "code",
   "execution_count": 6,
   "metadata": {},
   "outputs": [
    {
     "data": {
      "text/html": [
       "<pre style=\"white-space:pre;overflow-x:auto;line-height:normal;font-family:Menlo,'DejaVu Sans Mono',consolas,'Courier New',monospace\"><span style=\"color: #7fbfbf; text-decoration-color: #7fbfbf\">[09/23/23 18:06:09] </span><span style=\"color: #bfbf7f; text-decoration-color: #bfbf7f\">INFO    </span> Loaded key from <span style=\"color: #800080; text-decoration-color: #800080\">/home/yyr/Downloads/</span><span style=\"color: #ff00ff; text-decoration-color: #ff00ff\">kaggle.json</span>                                                                  <a href=\"file:///tmp/ipykernel_46931/987144171.py:6\" target=\"_blank\"><span style=\"color: #7f7f7f; text-decoration-color: #7f7f7f\">987144171.py</span></a><span style=\"color: #7f7f7f; text-decoration-color: #7f7f7f\">:</span><a href=\"file:///tmp/ipykernel_46931/987144171.py:6#load_kaggle_key:6\" target=\"_blank\"><span style=\"color: #7f7f7f; text-decoration-color: #7f7f7f\">load_kaggle_key:6</span></a>\n",
       "</pre>\n"
      ],
      "text/plain": [
       "\u001b[2;36m[09/23/23 18:06:09]\u001b[0m\u001b[2;36m \u001b[0m\u001b[2;33mINFO    \u001b[0m Loaded key from \u001b[35m/home/yyr/Downloads/\u001b[0m\u001b[95mkaggle.json\u001b[0m                                                                  \u001b]8;id=776553;file:///tmp/ipykernel_46931/987144171.py:6\u001b\\\u001b[2m987144171.py\u001b[0m\u001b]8;;\u001b\\\u001b[2m:\u001b[0m\u001b]8;id=496804;file:///tmp/ipykernel_46931/987144171.py:6#load_kaggle_key:6\u001b\\\u001b[2mload_kaggle_key:6\u001b[0m\u001b]8;;\u001b\\\n"
      ]
     },
     "metadata": {},
     "output_type": "display_data"
    },
    {
     "data": {
      "text/html": [
       "<pre style=\"white-space:pre;overflow-x:auto;line-height:normal;font-family:Menlo,'DejaVu Sans Mono',consolas,'Courier New',monospace\"><span style=\"color: #7fbfbf; text-decoration-color: #7fbfbf\">                    </span><span style=\"color: #bfbf7f; text-decoration-color: #bfbf7f\">INFO    </span> Data is already downloaded at <span style=\"color: #800080; text-decoration-color: #800080\">/home/yyr/Zapdos/ml-datasets/</span><span style=\"color: #ff00ff; text-decoration-color: #ff00ff\">flickr-8k-kaggle</span>                       <a href=\"file:///tmp/ipykernel_46931/987144171.py:15\" target=\"_blank\"><span style=\"color: #7f7f7f; text-decoration-color: #7f7f7f\">987144171.py</span></a><span style=\"color: #7f7f7f; text-decoration-color: #7f7f7f\">:</span><a href=\"file:///tmp/ipykernel_46931/987144171.py:15#download_flickr8k_from_kaggle:15\" target=\"_blank\"><span style=\"color: #7f7f7f; text-decoration-color: #7f7f7f\">download_flickr8k_from_kaggle:15</span></a>\n",
       "</pre>\n"
      ],
      "text/plain": [
       "\u001b[2;36m                   \u001b[0m\u001b[2;36m \u001b[0m\u001b[2;33mINFO    \u001b[0m Data is already downloaded at \u001b[35m/home/yyr/Zapdos/ml-datasets/\u001b[0m\u001b[95mflickr-8k-kaggle\u001b[0m                       \u001b]8;id=923008;file:///tmp/ipykernel_46931/987144171.py:15\u001b\\\u001b[2m987144171.py\u001b[0m\u001b]8;;\u001b\\\u001b[2m:\u001b[0m\u001b]8;id=393995;file:///tmp/ipykernel_46931/987144171.py:15#download_flickr8k_from_kaggle:15\u001b\\\u001b[2mdownload_flickr8k_from_kaggle:15\u001b[0m\u001b]8;;\u001b\\\n"
      ]
     },
     "metadata": {},
     "output_type": "display_data"
    },
    {
     "data": {
      "application/javascript": [
       "\n",
       "            setTimeout(function() {\n",
       "                var nbb_cell_id = 6;\n",
       "                var nbb_unformatted_code = \"# | master\\nkaggle_json_path = P(\\\"/home/yyr/Downloads/kaggle.json\\\")\\ndata_download_path = P(\\\"/home/yyr/Zapdos/ml-datasets/flickr-8k-kaggle/\\\")\\ndownload_flickr8k_from_kaggle(kaggle_json_path, data_download_path)\";\n",
       "                var nbb_formatted_code = \"# | master\\nkaggle_json_path = P(\\\"/home/yyr/Downloads/kaggle.json\\\")\\ndata_download_path = P(\\\"/home/yyr/Zapdos/ml-datasets/flickr-8k-kaggle/\\\")\\ndownload_flickr8k_from_kaggle(kaggle_json_path, data_download_path)\";\n",
       "                var nbb_cells = Jupyter.notebook.get_cells();\n",
       "                for (var i = 0; i < nbb_cells.length; ++i) {\n",
       "                    if (nbb_cells[i].input_prompt_number == nbb_cell_id) {\n",
       "                        if (nbb_cells[i].get_text() == nbb_unformatted_code) {\n",
       "                             nbb_cells[i].set_text(nbb_formatted_code);\n",
       "                        }\n",
       "                        break;\n",
       "                    }\n",
       "                }\n",
       "            }, 500);\n",
       "            "
      ],
      "text/plain": [
       "<IPython.core.display.Javascript object>"
      ]
     },
     "metadata": {},
     "output_type": "display_data"
    }
   ],
   "source": [
    "# | master\n",
    "kaggle_json_path = P(\"/home/yyr/Downloads/kaggle.json\")\n",
    "data_download_path = P(\"/home/yyr/Zapdos/ml-datasets/flickr-8k-kaggle/\")\n",
    "download_flickr8k_from_kaggle(kaggle_json_path, data_download_path)"
   ]
  },
  {
   "cell_type": "code",
   "execution_count": 7,
   "metadata": {},
   "outputs": [
    {
     "name": "stderr",
     "output_type": "stream",
     "text": [
      "Skipping .ipynb files as Jupyter dependencies are not installed.\n",
      "You can fix this by running ``pip install \"black[jupyter]\"``\n",
      "reformatted /mnt/347832F37832B388/projects/MCVP2e/Chapter-15b/CLIP/clip/_modidx.py\n",
      "reformatted /mnt/347832F37832B388/projects/MCVP2e/Chapter-15b/CLIP/clip/core.py\n",
      "\n",
      "All done! ✨ 🍰 ✨\n",
      "2 files reformatted, 2 files left unchanged.\n"
     ]
    },
    {
     "data": {
      "text/plain": [
       "CompletedProcess(args=['/home/yyr/anaconda3/envs/mcvp-book/bin/black', '../'], returncode=0)"
      ]
     },
     "execution_count": 7,
     "metadata": {},
     "output_type": "execute_result"
    },
    {
     "data": {
      "application/javascript": [
       "\n",
       "            setTimeout(function() {\n",
       "                var nbb_cell_id = 7;\n",
       "                var nbb_unformatted_code = \"# | hide\\nimport nbdev\\nnbdev.nbdev_export()\\nimport subprocess\\n\\nsubprocess.run([\\\"/home/yyr/anaconda3/envs/mcvp-book/bin/black\\\", __root])\";\n",
       "                var nbb_formatted_code = \"# | hide\\nimport nbdev\\n\\nnbdev.nbdev_export()\\nimport subprocess\\n\\nsubprocess.run([\\\"/home/yyr/anaconda3/envs/mcvp-book/bin/black\\\", __root])\";\n",
       "                var nbb_cells = Jupyter.notebook.get_cells();\n",
       "                for (var i = 0; i < nbb_cells.length; ++i) {\n",
       "                    if (nbb_cells[i].input_prompt_number == nbb_cell_id) {\n",
       "                        if (nbb_cells[i].get_text() == nbb_unformatted_code) {\n",
       "                             nbb_cells[i].set_text(nbb_formatted_code);\n",
       "                        }\n",
       "                        break;\n",
       "                    }\n",
       "                }\n",
       "            }, 500);\n",
       "            "
      ],
      "text/plain": [
       "<IPython.core.display.Javascript object>"
      ]
     },
     "metadata": {},
     "output_type": "display_data"
    }
   ],
   "source": [
    "# | hide\n",
    "import nbdev\n",
    "nbdev.nbdev_export()\n",
    "import subprocess\n",
    "\n",
    "subprocess.run([\"/home/yyr/anaconda3/envs/mcvp-book/bin/black\", __root])\n"
   ]
  },
  {
   "cell_type": "code",
   "execution_count": null,
   "metadata": {},
   "outputs": [],
   "source": []
  }
 ],
 "metadata": {
  "kernelspec": {
   "display_name": "Python 3 (ipykernel)",
   "language": "python",
   "name": "python3"
  },
  "language_info": {
   "codemirror_mode": {
    "name": "ipython",
    "version": 3
   },
   "file_extension": ".py",
   "mimetype": "text/x-python",
   "name": "python",
   "nbconvert_exporter": "python",
   "pygments_lexer": "ipython3",
   "version": "3.8.18"
  }
 },
 "nbformat": 4,
 "nbformat_minor": 4
}
